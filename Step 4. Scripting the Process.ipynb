{
 "cells": [
  {
   "cell_type": "markdown",
   "metadata": {},
   "source": [
    "# Scripting the Process\n",
    "Given that we have successfully trained a model, we need to look ahead and consider the possibility of dataset updates and the necessity to retrain a new model based on new data.<br>\n",
    "\n",
    "At first sight, this might look like an overkill to you and you may ask: Why do I need to do this? If I want this badly, I can do the data cleaning & model training again on the notebooks I already have.<br>\n",
    "👉 __There's a good point in creating an independent script.__ Real-life projects need to be agile and we're always on tight scheduling. Suppose you have weekly data updates and you'd like to update your model on weekly basis as well, and every couple of months revisit data for an EDA review. Wouldn't it be nice to have the freedom to change data preprocessing steps easily and just run a cron-job from time to time to retrain a new model on new data, all in an automated process?\n",
    "\n",
    "Having scripts to automate our ml pipeline is essential in real-life projects. From a simplistic point of view, at least two scripts are needed to achieve this goal. One for cleaning the new dataset based on our EDA insights; and the other for training the model. I have created self-explanatory scripts in __*script*__ folder of this repo. Make sure to check them out."
   ]
  },
  {
   "cell_type": "markdown",
   "metadata": {},
   "source": [
    "## Creating a Run-time Unique Identifier\n",
    "Well, having a unique identifier for saving files is necessary to avoid accidental re-writing on previous versions of them. I like to use a combination of (the current datetime + a random string).\n",
    "The very simple below lines create an almost-unique identifier:"
   ]
  },
  {
   "cell_type": "code",
   "execution_count": 1,
   "metadata": {},
   "outputs": [
    {
     "name": "stdout",
     "output_type": "stream",
     "text": [
      "2021.11.04-124459-DWTU\n"
     ]
    }
   ],
   "source": [
    "import string\n",
    "import random\n",
    "from datetime import datetime\n",
    "\n",
    "unique_run_identifier = ''.join([\n",
    "    datetime.now().strftime('%Y.%m.%d-%H%M%S-'),\n",
    "    ''.join(random.choices(string.ascii_uppercase + string.digits, k=4))\n",
    "])\n",
    "\n",
    "print(unique_run_identifier)"
   ]
  },
  {
   "cell_type": "markdown",
   "metadata": {},
   "source": [
    "The identifier is in this form: __\"Date-Time-RandomString\"__\n",
    "\n",
    "The nice thing about this identifier string is that it embodies the date and time simultaneously, which could be useful to perceive the exact time it was generated.<br>\n",
    "You can also increase _k_ value in _random.choices()_ function parameters to generate a longer random string sequence."
   ]
  },
  {
   "cell_type": "markdown",
   "metadata": {},
   "source": []
  }
 ],
 "metadata": {
  "interpreter": {
   "hash": "97ae724bfa85b9b34df7982b8bb8c7216f435b92902d749e4263f71162bea840"
  },
  "kernelspec": {
   "display_name": "Python 3.7.12 64-bit ('base': conda)",
   "name": "python3"
  },
  "language_info": {
   "codemirror_mode": {
    "name": "ipython",
    "version": 3
   },
   "file_extension": ".py",
   "mimetype": "text/x-python",
   "name": "python",
   "nbconvert_exporter": "python",
   "pygments_lexer": "ipython3",
   "version": "3.7.12"
  },
  "orig_nbformat": 4
 },
 "nbformat": 4,
 "nbformat_minor": 2
}
