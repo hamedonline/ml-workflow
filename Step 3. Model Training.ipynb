{
 "cells": [
  {
   "cell_type": "markdown",
   "metadata": {},
   "source": [
    "# Model Training\n",
    "This is the stage in which we cook the ML solution. But just like cooking, we're gonna need some good ingredients first. Let's get our hands on what we have prepared so far."
   ]
  },
  {
   "cell_type": "code",
   "execution_count": 1,
   "metadata": {},
   "outputs": [],
   "source": [
    "# required library imports & initial settings\n",
    "\n",
    "import numpy as np\n",
    "import pandas as pd\n",
    "import seaborn as sns\n",
    "\n",
    "from sklearn.model_selection import StratifiedKFold\n",
    "\n",
    "from sklearn.preprocessing import OneHotEncoder, OrdinalEncoder, MinMaxScaler, StandardScaler\n",
    "from sklearn.impute import SimpleImputer\n",
    "\n",
    "from sklearn.compose import ColumnTransformer\n",
    "from sklearn.pipeline import Pipeline\n",
    "\n",
    "from sklearn.linear_model import LinearRegression\n",
    "from sklearn.ensemble import RandomForestRegressor\n",
    "import xgboost as xgb\n",
    "\n",
    "from sklearn.metrics import mean_absolute_error, mean_squared_error\n",
    "\n",
    "\n",
    "# set seed value for reproducibility\n",
    "RANDOM_SEED = 42\n"
   ]
  },
  {
   "cell_type": "markdown",
   "metadata": {},
   "source": [
    "## Data Preprocessing"
   ]
  },
  {
   "cell_type": "markdown",
   "metadata": {},
   "source": [
    "### Reading Cleaned Data"
   ]
  },
  {
   "cell_type": "code",
   "execution_count": 2,
   "metadata": {},
   "outputs": [
    {
     "data": {
      "text/html": [
       "<div>\n",
       "<style scoped>\n",
       "    .dataframe tbody tr th:only-of-type {\n",
       "        vertical-align: middle;\n",
       "    }\n",
       "\n",
       "    .dataframe tbody tr th {\n",
       "        vertical-align: top;\n",
       "    }\n",
       "\n",
       "    .dataframe thead th {\n",
       "        text-align: right;\n",
       "    }\n",
       "</style>\n",
       "<table border=\"1\" class=\"dataframe\">\n",
       "  <thead>\n",
       "    <tr style=\"text-align: right;\">\n",
       "      <th></th>\n",
       "      <th>id</th>\n",
       "      <th>cat1</th>\n",
       "      <th>cat2</th>\n",
       "      <th>cat4</th>\n",
       "      <th>cat5</th>\n",
       "      <th>cat6</th>\n",
       "      <th>cat8</th>\n",
       "      <th>cat9</th>\n",
       "      <th>cat10</th>\n",
       "      <th>cat11</th>\n",
       "      <th>...</th>\n",
       "      <th>cont5</th>\n",
       "      <th>cont6</th>\n",
       "      <th>cont7</th>\n",
       "      <th>cont8</th>\n",
       "      <th>cont9</th>\n",
       "      <th>cont10</th>\n",
       "      <th>cont11</th>\n",
       "      <th>cont13</th>\n",
       "      <th>cont14</th>\n",
       "      <th>loss</th>\n",
       "    </tr>\n",
       "  </thead>\n",
       "  <tbody>\n",
       "    <tr>\n",
       "      <th>0</th>\n",
       "      <td>1</td>\n",
       "      <td>A</td>\n",
       "      <td>B</td>\n",
       "      <td>B</td>\n",
       "      <td>A</td>\n",
       "      <td>A</td>\n",
       "      <td>A</td>\n",
       "      <td>B</td>\n",
       "      <td>A</td>\n",
       "      <td>B</td>\n",
       "      <td>...</td>\n",
       "      <td>0.310061</td>\n",
       "      <td>0.718367</td>\n",
       "      <td>0.335060</td>\n",
       "      <td>0.30260</td>\n",
       "      <td>0.67135</td>\n",
       "      <td>0.83510</td>\n",
       "      <td>0.569745</td>\n",
       "      <td>0.822493</td>\n",
       "      <td>0.714843</td>\n",
       "      <td>2213.18</td>\n",
       "    </tr>\n",
       "    <tr>\n",
       "      <th>1</th>\n",
       "      <td>2</td>\n",
       "      <td>A</td>\n",
       "      <td>B</td>\n",
       "      <td>A</td>\n",
       "      <td>A</td>\n",
       "      <td>A</td>\n",
       "      <td>A</td>\n",
       "      <td>B</td>\n",
       "      <td>B</td>\n",
       "      <td>A</td>\n",
       "      <td>...</td>\n",
       "      <td>0.885834</td>\n",
       "      <td>0.438917</td>\n",
       "      <td>0.436585</td>\n",
       "      <td>0.60087</td>\n",
       "      <td>0.35127</td>\n",
       "      <td>0.43919</td>\n",
       "      <td>0.338312</td>\n",
       "      <td>0.611431</td>\n",
       "      <td>0.304496</td>\n",
       "      <td>1283.60</td>\n",
       "    </tr>\n",
       "    <tr>\n",
       "      <th>2</th>\n",
       "      <td>5</td>\n",
       "      <td>A</td>\n",
       "      <td>B</td>\n",
       "      <td>A</td>\n",
       "      <td>B</td>\n",
       "      <td>A</td>\n",
       "      <td>A</td>\n",
       "      <td>B</td>\n",
       "      <td>B</td>\n",
       "      <td>B</td>\n",
       "      <td>...</td>\n",
       "      <td>0.397069</td>\n",
       "      <td>0.289648</td>\n",
       "      <td>0.315545</td>\n",
       "      <td>0.27320</td>\n",
       "      <td>0.26076</td>\n",
       "      <td>0.32446</td>\n",
       "      <td>0.381398</td>\n",
       "      <td>0.195709</td>\n",
       "      <td>0.774425</td>\n",
       "      <td>3005.09</td>\n",
       "    </tr>\n",
       "    <tr>\n",
       "      <th>3</th>\n",
       "      <td>10</td>\n",
       "      <td>B</td>\n",
       "      <td>B</td>\n",
       "      <td>B</td>\n",
       "      <td>A</td>\n",
       "      <td>A</td>\n",
       "      <td>A</td>\n",
       "      <td>B</td>\n",
       "      <td>A</td>\n",
       "      <td>A</td>\n",
       "      <td>...</td>\n",
       "      <td>0.422268</td>\n",
       "      <td>0.440945</td>\n",
       "      <td>0.391128</td>\n",
       "      <td>0.31796</td>\n",
       "      <td>0.32128</td>\n",
       "      <td>0.44467</td>\n",
       "      <td>0.327915</td>\n",
       "      <td>0.605077</td>\n",
       "      <td>0.602642</td>\n",
       "      <td>939.85</td>\n",
       "    </tr>\n",
       "    <tr>\n",
       "      <th>4</th>\n",
       "      <td>11</td>\n",
       "      <td>A</td>\n",
       "      <td>B</td>\n",
       "      <td>B</td>\n",
       "      <td>A</td>\n",
       "      <td>A</td>\n",
       "      <td>A</td>\n",
       "      <td>B</td>\n",
       "      <td>B</td>\n",
       "      <td>A</td>\n",
       "      <td>...</td>\n",
       "      <td>0.704268</td>\n",
       "      <td>0.178193</td>\n",
       "      <td>0.247408</td>\n",
       "      <td>0.24564</td>\n",
       "      <td>0.22089</td>\n",
       "      <td>0.21230</td>\n",
       "      <td>0.204687</td>\n",
       "      <td>0.246011</td>\n",
       "      <td>0.432606</td>\n",
       "      <td>2763.85</td>\n",
       "    </tr>\n",
       "  </tbody>\n",
       "</table>\n",
       "<p>5 rows × 120 columns</p>\n",
       "</div>"
      ],
      "text/plain": [
       "   id cat1 cat2 cat4 cat5 cat6 cat8 cat9 cat10 cat11  ...     cont5     cont6  \\\n",
       "0   1    A    B    B    A    A    A    B     A     B  ...  0.310061  0.718367   \n",
       "1   2    A    B    A    A    A    A    B     B     A  ...  0.885834  0.438917   \n",
       "2   5    A    B    A    B    A    A    B     B     B  ...  0.397069  0.289648   \n",
       "3  10    B    B    B    A    A    A    B     A     A  ...  0.422268  0.440945   \n",
       "4  11    A    B    B    A    A    A    B     B     A  ...  0.704268  0.178193   \n",
       "\n",
       "      cont7    cont8    cont9   cont10    cont11    cont13    cont14     loss  \n",
       "0  0.335060  0.30260  0.67135  0.83510  0.569745  0.822493  0.714843  2213.18  \n",
       "1  0.436585  0.60087  0.35127  0.43919  0.338312  0.611431  0.304496  1283.60  \n",
       "2  0.315545  0.27320  0.26076  0.32446  0.381398  0.195709  0.774425  3005.09  \n",
       "3  0.391128  0.31796  0.32128  0.44467  0.327915  0.605077  0.602642   939.85  \n",
       "4  0.247408  0.24564  0.22089  0.21230  0.204687  0.246011  0.432606  2763.85  \n",
       "\n",
       "[5 rows x 120 columns]"
      ]
     },
     "execution_count": 2,
     "metadata": {},
     "output_type": "execute_result"
    }
   ],
   "source": [
    "# define relative data path (according the current path of this notebook)\n",
    "DATA_PATH = './script/data/'\n",
    "\n",
    "df_train_full = pd.read_csv(DATA_PATH+'train_cleaned.csv.gz')\n",
    "df_test_full  = pd.read_csv(DATA_PATH+'test_cleaned.csv.gz')\n",
    "\n",
    "df_train_full.head()"
   ]
  },
  {
   "cell_type": "code",
   "execution_count": 3,
   "metadata": {},
   "outputs": [],
   "source": [
    "# specify feature groups\n",
    "features_numerical   = [column for column in df_train_full if column.startswith('cont')]\n",
    "features_categorical = [column for column in df_train_full if column.startswith('cat')]"
   ]
  },
  {
   "cell_type": "markdown",
   "metadata": {},
   "source": [
    "### Transforming Target Column\n",
    "We noticed in EDA stage that our target column in data could benefit from a log-transform. We'll apply that transform right here in the beginning before any splits, since we will be using stratified method and it is important for us to consider equal distribution of samples in all data chops, according to the target distribution."
   ]
  },
  {
   "cell_type": "code",
   "execution_count": 4,
   "metadata": {},
   "outputs": [
    {
     "data": {
      "text/plain": [
       "<AxesSubplot:xlabel='loss', ylabel='Count'>"
      ]
     },
     "execution_count": 4,
     "metadata": {},
     "output_type": "execute_result"
    },
    {
     "data": {
      "image/png": "[encoded data removed]",
      "text/plain": [
       "<Figure size 432x288 with 1 Axes>"
      ]
     },
     "metadata": {
      "needs_background": "light"
     },
     "output_type": "display_data"
    }
   ],
   "source": [
    "# check-out the target column value distribution before log-transform\n",
    "\n",
    "name_of_target_column = 'loss'\n",
    "sns.histplot(df_train_full[name_of_target_column])\n"
   ]
  },
  {
   "cell_type": "code",
   "execution_count": 5,
   "metadata": {},
   "outputs": [],
   "source": [
    "name_of_target_column_transformed = name_of_target_column+'_transformed'\n",
    "\n",
    "# logarithmic transform function\n",
    "def log_transform(value):\n",
    "    return np.log1p(value)\n",
    "\n",
    "# create a new logarithmically transformed target column\n",
    "df_train_full[name_of_target_column_transformed] = df_train_full.apply(\n",
    "    lambda row: log_transform(row[name_of_target_column]), axis=1)"
   ]
  },
  {
   "cell_type": "code",
   "execution_count": 6,
   "metadata": {},
   "outputs": [
    {
     "data": {
      "text/plain": [
       "<AxesSubplot:xlabel='loss_transformed', ylabel='Count'>"
      ]
     },
     "execution_count": 6,
     "metadata": {},
     "output_type": "execute_result"
    },
    {
     "data": {
      "image/png": "[encoded data removed]",
      "text/plain": [
       "<Figure size 432x288 with 1 Axes>"
      ]
     },
     "metadata": {
      "needs_background": "light"
     },
     "output_type": "display_data"
    }
   ],
   "source": [
    "# check value distribution of transformed target column\n",
    "\n",
    "sns.histplot(df_train_full[name_of_target_column_transformed])\n"
   ]
  },
  {
   "cell_type": "markdown",
   "metadata": {},
   "source": [
    "### Data Splitting\n",
    "We have a pretty sizable dataset with 180k+ rows. Needless to say, creating multiple test models and tuning them will take a long time. What should we do then?<br>\n",
    "One simple trick I use in similar cases is to create a subsample dataset with smaller number of samples and apply and adjust training and tuning on this one. Later I can use the full train data and utilize the parameters I discovered."
   ]
  },
  {
   "cell_type": "code",
   "execution_count": 7,
   "metadata": {},
   "outputs": [],
   "source": [
    "# let's shuffle the whole dataframe before subsampling\n",
    "df_train_full = df_train_full.sample(frac=1, random_state=RANDOM_SEED).reset_index(drop=True)\n",
    "\n",
    "# second shuffle with an exponential random seed :D\n",
    "df_train_full = df_train_full.sample(frac=1, random_state=(RANDOM_SEED**2)).reset_index(drop=True)\n"
   ]
  },
  {
   "cell_type": "markdown",
   "metadata": {},
   "source": [
    "To make sure that the subsampled data is similar to our original full dataset, it is advised widely to use __stratified__ method in all sampling scenarios.\n",
    "\n",
    "But we know that stratified sampling works only on classification problems, which have a target column with classes. Our problem here is of regression type and the target column contains continuous numerical values.\n",
    "\n",
    "__So, what should we do to randomly subsample a fraction of data with samples that their target column values conform to distribution pattern in our original dataset?__<br>\n",
    "Pandas _qcut()_ function to the rescue! We create discrete bins (groups) for our target column with (nearly) equal value counts in each bin, and do the subsampling using those bins."
   ]
  },
  {
   "cell_type": "code",
   "execution_count": 8,
   "metadata": {},
   "outputs": [],
   "source": [
    "name_of_target_column_binned = name_of_target_column+'_bin'\n",
    "\n",
    "# 10 bin groups for target values should work fine\n",
    "bin_counts = 10\n",
    "\n",
    "# create bin column in our dataframe\n",
    "df_train_full[name_of_target_column_binned] = pd.qcut(\n",
    "    df_train_full[name_of_target_column_transformed],\n",
    "    q=bin_counts,\n",
    "    labels=list(range(bin_counts)))\n"
   ]
  },
  {
   "cell_type": "markdown",
   "metadata": {},
   "source": [
    "I think a number around 25k samples is a decent chunk for a (train + validation) subsample:"
   ]
  },
  {
   "cell_type": "code",
   "execution_count": 9,
   "metadata": {},
   "outputs": [],
   "source": [
    "desired_subsample_size = 25000\n",
    "subsample_fold_split = int(len(df_train_full)/desired_subsample_size)\n",
    "\n",
    "# create desired kfold splitter\n",
    "skf_subsample_full = StratifiedKFold(\n",
    "    n_splits=subsample_fold_split, shuffle=True, random_state=RANDOM_SEED)\n",
    "\n",
    "# make sure target distribution remains the same by utilizing StratifiedKFold data split\n",
    "train_indices_remaining, train_indices_subsample = next(\n",
    "    skf_subsample_full.split(X=df_train_full, y=df_train_full[name_of_target_column_binned]), 0)\n",
    "\n",
    "df_train_full_subsample = df_train_full.iloc[train_indices_subsample, :].reset_index(drop=True)\n"
   ]
  },
  {
   "cell_type": "markdown",
   "metadata": {},
   "source": [
    "We should now separate the full subsample dataset into \"subsample train\" and \"subsample validation\" in similar manner:"
   ]
  },
  {
   "cell_type": "code",
   "execution_count": 10,
   "metadata": {},
   "outputs": [],
   "source": [
    "skf_subsample_trainvalid = StratifiedKFold(\n",
    "    n_splits=5, shuffle=True, random_state=RANDOM_SEED)\n",
    "\n",
    "train_indices_subsample, valid_indices_subsample = next(\n",
    "    skf_subsample_trainvalid.split(X=df_train_full_subsample, y=df_train_full_subsample[name_of_target_column_binned]), 0)\n",
    "\n",
    "df_train_subsample = df_train_full.iloc[train_indices_subsample, :].reset_index(drop=True)\n",
    "df_valid_subsample = df_train_full.iloc[valid_indices_subsample, :].reset_index(drop=True)\n"
   ]
  },
  {
   "cell_type": "markdown",
   "metadata": {},
   "source": [
    "Now let's check to see how closely the subsample (and it's train/valid splits) represents our full dataset:"
   ]
  },
  {
   "cell_type": "code",
   "execution_count": 11,
   "metadata": {},
   "outputs": [
    {
     "data": {
      "image/png": "[encoded data removed]",
      "text/plain": [
       "<Figure size 432x288 with 1 Axes>"
      ]
     },
     "metadata": {
      "needs_background": "light"
     },
     "output_type": "display_data"
    }
   ],
   "source": [
    "from matplotlib import pyplot as plt\n",
    "\n",
    "plot_bins = 250\n",
    "\n",
    "plt.hist(\n",
    "    x=df_train_full[name_of_target_column_transformed],\n",
    "    bins=plot_bins,\n",
    "    alpha=0.6,\n",
    "    label='Full Train Dataset')\n",
    "plt.hist(\n",
    "    x=df_train_full_subsample[name_of_target_column_transformed],\n",
    "    bins=plot_bins,\n",
    "    alpha=0.6,\n",
    "    label='Full Subsample Dataset')\n",
    "plt.hist(\n",
    "    x=df_train_subsample[name_of_target_column_transformed],\n",
    "    bins=plot_bins,\n",
    "    alpha=0.5,\n",
    "    label='Subsample Train')\n",
    "plt.hist(\n",
    "    x=df_valid_subsample[name_of_target_column_transformed],\n",
    "    bins=plot_bins,\n",
    "    alpha=0.5,\n",
    "    label='Subsample Validation')\n",
    "\n",
    "plt.yscale('log')\n",
    "plt.legend(loc='upper left')\n",
    "plt.title('Distribution of Target Column Values')\n",
    "plt.rcParams['figure.figsize'] = (1, 1)\n",
    "plt.show()\n"
   ]
  },
  {
   "cell_type": "markdown",
   "metadata": {},
   "source": [
    "Distributions look pretty similar. That's great news!<br>\n",
    "__Note:__ The _'Y'_ values (indicating sample counts) in above plot are logarithmically scaled for easier comparison."
   ]
  },
  {
   "cell_type": "markdown",
   "metadata": {},
   "source": [
    "Now that we're done with splits, it's time to build out the dataframes containing only feature columns, and of course the target column series."
   ]
  },
  {
   "cell_type": "code",
   "execution_count": 12,
   "metadata": {},
   "outputs": [],
   "source": [
    "features_all = features_numerical + features_categorical\n",
    "\n",
    "X_train_subsample = df_train_subsample[features_all].copy()\n",
    "X_valid_subsample = df_valid_subsample[features_all].copy()\n",
    "\n",
    "y_train_subsample = df_train_subsample[name_of_target_column_transformed].to_numpy()\n",
    "y_valid_subsample = df_valid_subsample[name_of_target_column_transformed].to_numpy()\n"
   ]
  },
  {
   "cell_type": "markdown",
   "metadata": {},
   "source": [
    "### Transforming Numerical Features\n",
    "During EDA we noticed the following characteristics for numerical features:<br>\n",
    "- Gaussian-like: _['cont1', 'cont2', 'cont3', 'cont6', 'cont7', 'cont9', 'cont11', 'cont12']_<br>\n",
    "- Non-Gaussian-like: _['cont4', 'cont5', 'cont8', 'cont10', 'cont13', 'cont14']_\n",
    "\n",
    "As a rule of thumb, we'll use min-max scaler for non-gaussian features, and standard scaler for gaussian-like features.\n",
    "\n",
    "You should remember that we dropped some columns in data cleaning step. We should adjust column names in above groups, having that in mind."
   ]
  },
  {
   "cell_type": "code",
   "execution_count": 13,
   "metadata": {},
   "outputs": [],
   "source": [
    "gaussian_like = ['cont1', 'cont2', 'cont3', 'cont6', 'cont7', 'cont9', 'cont11', 'cont12']\n",
    "non_gaussian_like = ['cont4', 'cont5', 'cont8', 'cont10', 'cont13', 'cont14']\n",
    "\n",
    "features_numerical_to_normalize = [column for column in gaussian_like if column in df_train_subsample.columns.to_list()]\n",
    "features_numerical_to_standardize = [column for column in non_gaussian_like if column in df_train_subsample.columns.to_list()]"
   ]
  },
  {
   "cell_type": "markdown",
   "metadata": {},
   "source": [
    "### Handling Categorical Features\n",
    "We talked about the curse of dimensionality in EDA stage. For categorical columns, if the cardinality of a column is below 10, we'll nominate it for one-hot encoding; otherwise it goes to ordinal encoding list."
   ]
  },
  {
   "cell_type": "code",
   "execution_count": 14,
   "metadata": {},
   "outputs": [],
   "source": [
    "features_categorical_to_ordinal = list()\n",
    "features_categorical_to_onehot  = list()\n",
    "\n",
    "for column, variety in X_train_subsample[features_categorical].nunique().iteritems():\n",
    "    if variety < 10: features_categorical_to_onehot.append(column)\n",
    "    else: features_categorical_to_ordinal.append(column)\n"
   ]
  },
  {
   "cell_type": "markdown",
   "metadata": {},
   "source": [
    "Let's utilize __sk-learn's pipeline__ feature to do the transformations in an efficient way:"
   ]
  },
  {
   "cell_type": "code",
   "execution_count": 15,
   "metadata": {},
   "outputs": [],
   "source": [
    "# create transform pipeline for numerical features\n",
    "transformer_numerical = Pipeline(steps=[\n",
    "    ('imputer', SimpleImputer(strategy='mean')),\n",
    "    ('normalizer', MinMaxScaler()),\n",
    "    ('standardizer', StandardScaler()),\n",
    "])\n",
    "\n",
    "# create transform pipelines for categorical features\n",
    "transformer_categorical_1 = Pipeline(steps=[\n",
    "    ('imputer', SimpleImputer(strategy='most_frequent')),\n",
    "    ('ordinal', OrdinalEncoder(handle_unknown='use_encoded_value', unknown_value=-1)),\n",
    "    ('normal',  MinMaxScaler()),\n",
    "])\n",
    "transformer_categorical_transformer2 = Pipeline(steps=[\n",
    "    ('imputer', SimpleImputer(strategy='constant', fill_value='missing')),\n",
    "    ('onehot', OneHotEncoder(handle_unknown='ignore', sparse=False))\n",
    "])\n",
    "\n",
    "# bundle preprocessing for numerical and categorical data\n",
    "preprocessor = ColumnTransformer(\n",
    "    transformers=[\n",
    "        ('num',  transformer_numerical, features_numerical),\n",
    "        ('cat1', transformer_categorical_1, features_categorical_to_ordinal),\n",
    "        ('cat2', transformer_categorical_transformer2, features_categorical_to_onehot),\n",
    "    ])\n"
   ]
  },
  {
   "cell_type": "markdown",
   "metadata": {},
   "source": [
    "## Models Training & Tuning Hyperparameters\n",
    "We'll cover three models for this study, starting from the simplest & fastest one, __\"Linear Regression\"__. Later we explore more sophisticated models, tree-based to be clear, __\"Random Forest\"__ & __\"XGBoost\"__.\n",
    "\n",
    "Hyperparameter tuning can be handled either automatically or manually. Actually there are many fantastic tools for automatic solutions if you google it. For the sake of simplicity we'll stick to manual approach and tune a couple of important parameters step by step, and one by one, __moving from the most significant to the least__."
   ]
  },
  {
   "cell_type": "markdown",
   "metadata": {},
   "source": [
    "### Linear Regression Model"
   ]
  },
  {
   "cell_type": "code",
   "execution_count": null,
   "metadata": {},
   "outputs": [],
   "source": []
  },
  {
   "cell_type": "markdown",
   "metadata": {},
   "source": [
    "### Random Forest\n"
   ]
  },
  {
   "cell_type": "markdown",
   "metadata": {},
   "source": [
    "#### Random Forest Initial Training"
   ]
  },
  {
   "cell_type": "code",
   "execution_count": 59,
   "metadata": {},
   "outputs": [
    {
     "name": "stdout",
     "output_type": "stream",
     "text": [
      "\n"
     ]
    }
   ],
   "source": [
    "model_rf = RandomForestRegressor(random_state=RANDOM_SEED, n_jobs=-1)\n",
    "\n",
    "# bundle preprocessing and modeling in a final pipeline\n",
    "pipeline_rf = Pipeline(steps=[\n",
    "    ('preprocessor', preprocessor),\n",
    "    ('model', model_rf)\n",
    "])\n",
    "\n",
    "# preprocess train data & fit model\n",
    "pipeline_rf.fit(X_train_subsample, y_train_subsample)\n",
    "\n",
    "print()"
   ]
  },
  {
   "cell_type": "code",
   "execution_count": 60,
   "metadata": {},
   "outputs": [
    {
     "name": "stdout",
     "output_type": "stream",
     "text": [
      "MAE Score: 1251.7648342556438\n"
     ]
    }
   ],
   "source": [
    "y_pred_subsample = pipeline_rf.predict(X_valid_subsample)\n",
    "\n",
    "# preprocess validation data and get predictions to evaluate the model\n",
    "# don't forget to transfer back target values after inference prediction with np.expm1() ;)\n",
    "score_mae_rf = mean_absolute_error(np.expm1(y_valid_subsample), np.expm1(y_pred_subsample))\n",
    "print('MAE Score:', score_mae_rf)\n"
   ]
  },
  {
   "cell_type": "markdown",
   "metadata": {},
   "source": [
    "#### Random Forest Hyperparameter Tuning"
   ]
  },
  {
   "cell_type": "code",
   "execution_count": 45,
   "metadata": {},
   "outputs": [
    {
     "name": "stdout",
     "output_type": "stream",
     "text": [
      "<<MAE Scores for Random Forest Model :: Study Parameter: Max Depth>>\n",
      "Val.\tScore\n",
      "3 \t 1430.521\n",
      "5 \t 1348.5531\n",
      "10 \t 1269.5775\n",
      "15 \t 1254.3561\n",
      "20 \t 1250.9533\n",
      "25 \t 1252.6426\n",
      "30 \t 1251.1197\n"
     ]
    }
   ],
   "source": [
    "tune_subject = 'Max Depth'\n",
    "tune_values  = [3, 5, 10, 15, 20, 25, 30]\n",
    "\n",
    "scores = list()\n",
    "print(f'<<MAE Scores for Random Forest Model :: Study Parameter: {tune_subject}>>\\nVal.\\tScore')\n",
    "for value in tune_values:\n",
    "    model_rf = RandomForestRegressor(max_depth=value, random_state=RANDOM_SEED, n_jobs=-1)\n",
    "    pipeline_rf = Pipeline(steps=[\n",
    "        ('preprocessor', preprocessor),\n",
    "        ('model', model_rf)\n",
    "    ])\n",
    "    pipeline_rf.fit(X_train_subsample, y_train_subsample)\n",
    "\n",
    "    y_pred_subsample = pipeline_rf.predict(X_valid_subsample)\n",
    "    score_mae_rf = mean_absolute_error(np.expm1(y_valid_subsample), np.expm1(y_pred_subsample))\n",
    "    scores.append((value, score_mae_rf))\n",
    "    print(f'{value} \\t {round(score_mae_rf, 4)}')"
   ]
  },
  {
   "cell_type": "markdown",
   "metadata": {},
   "source": [
    "There it is the best one. We move on with max_depth=20 from here."
   ]
  },
  {
   "cell_type": "code",
   "execution_count": 52,
   "metadata": {},
   "outputs": [
    {
     "name": "stdout",
     "output_type": "stream",
     "text": [
      "<<MAE Scores for Random Forest Model :: Study Parameter: Number of Estimators>>\n",
      "Val.\tScore\n",
      "50 \t 1258.1482\n",
      "100 \t 1250.9533\n",
      "150 \t 1249.169\n",
      "200 \t 1248.4397\n",
      "250 \t 1248.6593\n"
     ]
    }
   ],
   "source": [
    "tune_subject = 'Number of Estimators'\n",
    "tune_values = list(range(50, 300, 50))\n",
    "\n",
    "scores = list()\n",
    "print(f'<<MAE Scores for Random Forest Model :: Study Parameter: {tune_subject}>>\\nVal.\\tScore')\n",
    "for value in tune_values:\n",
    "    model_rf = RandomForestRegressor(max_depth=20, n_estimators=value, random_state=RANDOM_SEED, n_jobs=-1)\n",
    "    pipeline_rf = Pipeline(steps=[\n",
    "        ('preprocessor', preprocessor),\n",
    "        ('model', model_rf)\n",
    "    ])\n",
    "    pipeline_rf.fit(X_train_subsample, y_train_subsample)\n",
    "\n",
    "    y_pred_subsample = pipeline_rf.predict(X_valid_subsample)\n",
    "    score_mae_rf = mean_absolute_error(np.expm1(y_valid_subsample), np.expm1(y_pred_subsample))\n",
    "    scores.append((value, score_mae_rf))\n",
    "    print(f'{value} \\t {round(score_mae_rf, 4)}')\n"
   ]
  },
  {
   "cell_type": "markdown",
   "metadata": {},
   "source": [
    "We'll continue with n_estimators=200."
   ]
  },
  {
   "cell_type": "code",
   "execution_count": 53,
   "metadata": {},
   "outputs": [
    {
     "name": "stdout",
     "output_type": "stream",
     "text": [
      "<<MAE Scores for Random Forest Model :: Study Parameter: Max Number of Features for Splitting>>\n",
      "Val.\tScore\n",
      "8 \t 1276.9501\n",
      "16 \t 1250.7871\n",
      "32 \t 1242.985\n",
      "40 \t 1241.9461\n",
      "48 \t 1240.6981\n",
      "56 \t 1239.9349\n",
      "64 \t 1242.188\n",
      "72 \t 1238.2277\n",
      "80 \t 1240.6245\n"
     ]
    }
   ],
   "source": [
    "tune_subject = 'Max Number of Features for Splitting'\n",
    "tune_values = [8, 16, 32, 40, 48, 56, 64, 72, 80]\n",
    "\n",
    "scores = list()\n",
    "print(f'<<MAE Scores for Random Forest Model :: Study Parameter: {tune_subject}>>\\nVal.\\tScore')\n",
    "for value in tune_values:\n",
    "    model_rf = RandomForestRegressor(max_depth=20, n_estimators=200,\n",
    "        max_features=value, random_state=RANDOM_SEED, n_jobs=-1)\n",
    "    pipeline_rf = Pipeline(steps=[\n",
    "        ('preprocessor', preprocessor),\n",
    "        ('model', model_rf)\n",
    "    ])\n",
    "    pipeline_rf.fit(X_train_subsample, y_train_subsample)\n",
    "\n",
    "    y_pred_subsample = pipeline_rf.predict(X_valid_subsample)\n",
    "    score_mae_rf = mean_absolute_error(np.expm1(y_valid_subsample), np.expm1(y_pred_subsample))\n",
    "    scores.append((value, score_mae_rf))\n",
    "    print(f'{value} \\t {round(score_mae_rf, 4)}')\n"
   ]
  },
  {
   "cell_type": "markdown",
   "metadata": {},
   "source": [
    "This brings our RF tuning to an end. The best hyperparameters are:\n",
    "```\n",
    "max_depth=20\n",
    "n_estimators=200\n",
    "max_features=56\n",
    "```"
   ]
  },
  {
   "cell_type": "markdown",
   "metadata": {},
   "source": [
    "### XGBoost\n"
   ]
  },
  {
   "cell_type": "markdown",
   "metadata": {},
   "source": [
    "#### XGBoost Initial Training"
   ]
  },
  {
   "cell_type": "code",
   "execution_count": 71,
   "metadata": {},
   "outputs": [
    {
     "name": "stdout",
     "output_type": "stream",
     "text": [
      "MAE Score: 1223.4211677762921\n"
     ]
    }
   ],
   "source": [
    "model_xgb = xgb.XGBRegressor()\n",
    "pipeline_xgb = Pipeline(steps=[\n",
    "    ('preprocessor', preprocessor),\n",
    "    ('model', model_xgb)\n",
    "])\n",
    "pipeline_xgb.fit(X_train_subsample, y_train_subsample)\n",
    "\n",
    "y_pred_subsample = pipeline_xgb.predict(X_valid_subsample)\n",
    "score_mae_xgb = mean_absolute_error(np.expm1(y_valid_subsample), np.expm1(y_pred_subsample))\n",
    "print('MAE Score:', score_mae_xgb)\n"
   ]
  },
  {
   "cell_type": "markdown",
   "metadata": {},
   "source": [
    "#### XGBoost Hyperparameter Tuning"
   ]
  },
  {
   "cell_type": "markdown",
   "metadata": {},
   "source": [
    "We can use __gpu__ for faster hyperparameter search. If you have a compatible gpu, enable this option by setting it enabled in following line:"
   ]
  },
  {
   "cell_type": "code",
   "execution_count": 75,
   "metadata": {},
   "outputs": [],
   "source": [
    "gpu_enabled = True\n",
    "\n",
    "tree_method_applied = 'gpu_hist' if gpu_enabled else 'auto'\n"
   ]
  },
  {
   "cell_type": "code",
   "execution_count": 78,
   "metadata": {},
   "outputs": [
    {
     "name": "stdout",
     "output_type": "stream",
     "text": [
      "<<MAE Scores for XGBoost Model :: Study Parameter: Number of Estimators>>\n",
      "Val.\tScore\n",
      "20 \t 1220.7585\n",
      "25 \t 1212.3367\n",
      "30 \t 1205.01\n",
      "35 \t 1205.8681\n",
      "40 \t 1206.8926\n",
      "45 \t 1206.2272\n",
      "50 \t 1205.4982\n",
      "55 \t 1209.66\n",
      "60 \t 1208.4578\n",
      "65 \t 1208.4743\n",
      "70 \t 1209.7424\n",
      "75 \t 1210.0238\n",
      "80 \t 1210.8627\n",
      "85 \t 1212.1921\n",
      "90 \t 1215.8706\n",
      "95 \t 1218.2615\n"
     ]
    }
   ],
   "source": [
    "tune_subject = 'Number of Estimators'\n",
    "tune_values = list(range(20, 100, 5))\n",
    "\n",
    "scores = list()\n",
    "print(f'<<MAE Scores for XGBoost Model :: Study Parameter: {tune_subject}>>\\nVal.\\tScore')\n",
    "for value in tune_values:\n",
    "    xgb_params = {\n",
    "        'n_estimators': value,\n",
    "\n",
    "        'objective': 'reg:squarederror',\n",
    "        'nthread': -1,\n",
    "        'tree_method': tree_method_applied,\n",
    "\n",
    "        'seed': RANDOM_SEED,\n",
    "        'verbosity': 1,\n",
    "    }\n",
    "\n",
    "    model_xgb = xgb.XGBRegressor(**xgb_params)\n",
    "    pipeline_xgb = Pipeline(steps=[\n",
    "        ('preprocessor', preprocessor),\n",
    "        ('model', model_xgb)\n",
    "    ])\n",
    "    pipeline_xgb.fit(X_train_subsample, y_train_subsample)\n",
    "\n",
    "    y_pred_subsample = pipeline_xgb.predict(X_valid_subsample)\n",
    "    score_mae_xgb = mean_absolute_error(np.expm1(y_valid_subsample), np.expm1(y_pred_subsample))\n",
    "    scores.append((value, score_mae_xgb))\n",
    "    print(f'{value} \\t {round(score_mae_xgb, 4)}')\n"
   ]
  },
  {
   "cell_type": "markdown",
   "metadata": {},
   "source": [
    "There we go. Our preferred n_estimators equals 30."
   ]
  },
  {
   "cell_type": "code",
   "execution_count": 83,
   "metadata": {},
   "outputs": [
    {
     "name": "stdout",
     "output_type": "stream",
     "text": [
      "<<MAE Scores for XGBoost Model :: Study Parameter: Max Depth>>\n",
      "Val.\tScore\n",
      "2 \t 1260.5824\n",
      "3 \t 1222.3614\n",
      "4 \t 1210.7759\n",
      "5 \t 1205.4412\n",
      "6 \t 1205.01\n",
      "7 \t 1207.8981\n",
      "8 \t 1227.9128\n",
      "9 \t 1250.1969\n",
      "10 \t 1247.2156\n"
     ]
    }
   ],
   "source": [
    "tune_subject = 'Max Depth'\n",
    "tune_values = list(range(2, 11, 1))\n",
    "\n",
    "scores = list()\n",
    "print(\n",
    "    f'<<MAE Scores for XGBoost Model :: Study Parameter: {tune_subject}>>\\nVal.\\tScore')\n",
    "for value in tune_values:\n",
    "    xgb_params = {\n",
    "        'max_depth': value,\n",
    "        'n_estimators': 30,\n",
    "\n",
    "        'objective': 'reg:squarederror',\n",
    "        'nthread': -1,\n",
    "        'tree_method': tree_method_applied,\n",
    "\n",
    "        'seed': RANDOM_SEED,\n",
    "        'verbosity': 1,\n",
    "    }\n",
    "\n",
    "    model_xgb = xgb.XGBRegressor(**xgb_params)\n",
    "    pipeline_xgb = Pipeline(steps=[\n",
    "        ('preprocessor', preprocessor),\n",
    "        ('model', model_xgb)\n",
    "    ])\n",
    "    pipeline_xgb.fit(X_train_subsample, y_train_subsample)\n",
    "\n",
    "    y_pred_subsample = pipeline_xgb.predict(X_valid_subsample)\n",
    "    score_mae_xgb = mean_absolute_error(\n",
    "        np.expm1(y_valid_subsample), np.expm1(y_pred_subsample))\n",
    "    scores.append((value, score_mae_xgb))\n",
    "    print(f'{value} \\t {round(score_mae_xgb, 4)}')\n"
   ]
  },
  {
   "cell_type": "markdown",
   "metadata": {},
   "source": [
    "The depth with value 6 is our choice."
   ]
  },
  {
   "cell_type": "code",
   "execution_count": 94,
   "metadata": {},
   "outputs": [
    {
     "name": "stdout",
     "output_type": "stream",
     "text": [
      "<<MAE Scores for XGBoost Model :: Study Parameter: Learning Rate>>\n",
      "Val.\tScore\n",
      "0.1 \t 1464.9177\n",
      "0.11 \t 1370.7784\n",
      "0.12 \t 1314.1458\n",
      "0.13 \t 1275.7434\n",
      "0.14 \t 1251.7331\n",
      "0.15 \t 1236.7471\n",
      "0.16 \t 1219.0251\n",
      "0.17 \t 1213.4802\n",
      "0.18 \t 1211.7185\n",
      "0.19 \t 1212.8984\n",
      "0.2 \t 1201.7133\n",
      "0.21 \t 1210.9485\n",
      "0.22 \t 1207.23\n",
      "0.23 \t 1199.7316\n",
      "0.24 \t 1203.3186\n",
      "0.25 \t 1202.6958\n",
      "0.26 \t 1205.0798\n",
      "0.27 \t 1210.61\n",
      "0.28 \t 1218.2772\n",
      "0.29 \t 1211.2089\n"
     ]
    }
   ],
   "source": [
    "tune_subject = 'Learning Rate'\n",
    "tune_values = [round(item, 2) for item in np.arange(0.1, 0.3, 0.01)]\n",
    "\n",
    "scores = list()\n",
    "print(f'<<MAE Scores for XGBoost Model :: Study Parameter: {tune_subject}>>\\nVal.\\tScore')\n",
    "for value in tune_values:\n",
    "    xgb_params = {\n",
    "        'eta': value,\n",
    "        'max_depth': 6,\n",
    "        'n_estimators': 30,\n",
    "\n",
    "        'objective': 'reg:squarederror',\n",
    "        'nthread': -1,\n",
    "        'tree_method': tree_method_applied,\n",
    "\n",
    "        'seed': RANDOM_SEED,\n",
    "        'verbosity': 1,\n",
    "    }\n",
    "\n",
    "    model_xgb = xgb.XGBRegressor(**xgb_params)\n",
    "    pipeline_xgb = Pipeline(steps=[\n",
    "        ('preprocessor', preprocessor),\n",
    "        ('model', model_xgb)\n",
    "    ])\n",
    "    pipeline_xgb.fit(X_train_subsample, y_train_subsample)\n",
    "\n",
    "    y_pred_subsample = pipeline_xgb.predict(X_valid_subsample)\n",
    "    score_mae_xgb = mean_absolute_error(np.expm1(y_valid_subsample), np.expm1(y_pred_subsample))\n",
    "    scores.append((value, score_mae_xgb))\n",
    "    print(f'{value} \\t {round(score_mae_xgb, 4)}')\n"
   ]
  },
  {
   "cell_type": "markdown",
   "metadata": {},
   "source": [
    "The ideal learning rate would be 0.23."
   ]
  },
  {
   "cell_type": "code",
   "execution_count": 100,
   "metadata": {},
   "outputs": [
    {
     "name": "stdout",
     "output_type": "stream",
     "text": [
      "<<MAE Scores for XGBoost Model :: Study Parameter: Subsample Ratio>>\n",
      "Val.\tScore\n",
      "0.8 \t 1198.0412\n",
      "0.81 \t 1209.7342\n",
      "0.82 \t 1210.6296\n",
      "0.83 \t 1203.6598\n",
      "0.84 \t 1212.6996\n",
      "0.85 \t 1205.8743\n",
      "0.86 \t 1212.0091\n",
      "0.87 \t 1210.9594\n",
      "0.88 \t 1206.6629\n",
      "0.89 \t 1206.6421\n",
      "0.9 \t 1191.9369\n",
      "0.91 \t 1206.6319\n",
      "0.92 \t 1203.9524\n",
      "0.93 \t 1201.693\n",
      "0.94 \t 1199.5656\n",
      "0.95 \t 1207.9843\n",
      "0.96 \t 1203.9203\n",
      "0.97 \t 1205.1545\n",
      "0.98 \t 1208.0474\n",
      "0.99 \t 1205.0366\n",
      "1.0 \t 1199.7316\n"
     ]
    }
   ],
   "source": [
    "tune_subject = 'Subsample Ratio'\n",
    "tune_values = [round(item, 2) for item in np.arange(0.8, 1.01, 0.01)]\n",
    "\n",
    "scores = list()\n",
    "print(f'<<MAE Scores for XGBoost Model :: Study Parameter: {tune_subject}>>\\nVal.\\tScore')\n",
    "for value in tune_values:\n",
    "    xgb_params = {\n",
    "        'eta': 0.23,\n",
    "        'max_depth': 6,\n",
    "        'n_estimators': 30,\n",
    "        'subsample': value,\n",
    "\n",
    "        'objective': 'reg:squarederror',\n",
    "        'nthread': -1,\n",
    "        'tree_method': tree_method_applied,\n",
    "\n",
    "        'seed': RANDOM_SEED,\n",
    "        'verbosity': 1,\n",
    "    }\n",
    "\n",
    "    model_xgb = xgb.XGBRegressor(**xgb_params)\n",
    "    pipeline_xgb = Pipeline(steps=[\n",
    "        ('preprocessor', preprocessor),\n",
    "        ('model', model_xgb)\n",
    "    ])\n",
    "    pipeline_xgb.fit(X_train_subsample, y_train_subsample)\n",
    "\n",
    "    y_pred_subsample = pipeline_xgb.predict(X_valid_subsample)\n",
    "    score_mae_xgb = mean_absolute_error(np.expm1(y_valid_subsample), np.expm1(y_pred_subsample))\n",
    "    scores.append((value, score_mae_xgb))\n",
    "    print(f'{value} \\t {round(score_mae_xgb, 4)}')\n"
   ]
  },
  {
   "cell_type": "markdown",
   "metadata": {},
   "source": [
    "Ok, 0.9 for subsample ratio works the best here! This wraps up our XGBoost tuning."
   ]
  },
  {
   "cell_type": "markdown",
   "metadata": {},
   "source": [
    "### Choosing The Best Model\n",
    "XGBoost performed the best among tuned three models discussed here. That will be our go-to model for final train on data and our train script."
   ]
  },
  {
   "cell_type": "markdown",
   "metadata": {},
   "source": [
    "## Final Training on All Data"
   ]
  },
  {
   "cell_type": "code",
   "execution_count": 139,
   "metadata": {},
   "outputs": [
    {
     "name": "stdout",
     "output_type": "stream",
     "text": [
      "Training finished :)\n"
     ]
    }
   ],
   "source": [
    "X_train = df_train_full[features_all].copy()\n",
    "y_train = df_train_full[name_of_target_column_transformed].to_numpy()\n",
    "X_test = df_test_full[features_all].copy()\n",
    "\n",
    "\n",
    "gpu_enabled = True\n",
    "tree_method_applied = 'gpu_hist' if gpu_enabled else 'auto'\n",
    "\n",
    "# tuned hyperparameters\n",
    "xgb_params_final = {\n",
    "    'eta': 0.23,\n",
    "    'max_depth': 6,\n",
    "    'n_estimators': 30,\n",
    "    'subsample': 0.9,\n",
    "\n",
    "    'objective': 'reg:squarederror',\n",
    "    'nthread': -1,\n",
    "    'tree_method': tree_method_applied,\n",
    "\n",
    "    'seed': RANDOM_SEED,\n",
    "    'verbosity': 1,\n",
    "}\n",
    "\n",
    "model_final = xgb.XGBRegressor(**xgb_params_final)\n",
    "pipeline_final = Pipeline(steps=[\n",
    "    ('preprocessor', preprocessor),\n",
    "    ('model', model_final)\n",
    "])\n",
    "pipeline_final.fit(X_train, y_train)\n",
    "\n",
    "y_pred_test = np.expm1(pipeline_final.predict(X_test))\n",
    "\n",
    "print('Training finished :)')\n"
   ]
  },
  {
   "cell_type": "code",
   "execution_count": 140,
   "metadata": {},
   "outputs": [
    {
     "name": "stdout",
     "output_type": "stream",
     "text": [
      "MAE Score: 1156.6538551622903\n"
     ]
    }
   ],
   "source": [
    "# test the final model on the same subsample validation bunch\n",
    "y_pred_subsample = pipeline_final.predict(X_valid_subsample)\n",
    "score_mae_subsample_final = mean_absolute_error(np.expm1(y_valid_subsample), np.expm1(y_pred_subsample))\n",
    "print('MAE Score:', score_mae_subsample_final)\n"
   ]
  },
  {
   "cell_type": "markdown",
   "metadata": {},
   "source": [
    "As we expected, training on all data improved subsampled data score."
   ]
  }
 ],
 "metadata": {
  "interpreter": {
   "hash": "97ae724bfa85b9b34df7982b8bb8c7216f435b92902d749e4263f71162bea840"
  },
  "kernelspec": {
   "display_name": "Python 3.7.12 64-bit ('base': conda)",
   "name": "python3"
  },
  "language_info": {
   "codemirror_mode": {
    "name": "ipython",
    "version": 3
   },
   "file_extension": ".py",
   "mimetype": "text/x-python",
   "name": "python",
   "nbconvert_exporter": "python",
   "pygments_lexer": "ipython3",
   "version": "3.7.12"
  },
  "orig_nbformat": 4
 },
 "nbformat": 4,
 "nbformat_minor": 2
}
