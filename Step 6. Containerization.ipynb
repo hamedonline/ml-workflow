{
 "cells": [
  {
   "cell_type": "markdown",
   "metadata": {},
   "source": [
    "# Containerization\n",
    "Soon.<br>\n",
    "This part is under revision; It's being cooked right now 🥣."
   ]
  }
 ],
 "metadata": {
  "language_info": {
   "name": "python"
  },
  "orig_nbformat": 4
 },
 "nbformat": 4,
 "nbformat_minor": 2
}
