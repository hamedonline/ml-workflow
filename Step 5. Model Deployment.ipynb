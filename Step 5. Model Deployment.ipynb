{
 "cells": [
  {
   "cell_type": "markdown",
   "metadata": {},
   "source": [
    "# Model Deployment\n",
    "Quite a journey to get here! Do you remember that at the end of step 3 (model training) we saved the trained model as a bin file?<br>\n",
    "Well, now it's time to serve the model to those folks that have been waiting for us to provide them an entrance for prediction 😊. __REST APIs__ are the most common method used for doing this.\n",
    "\n",
    "During this notebook, we'll be reviewing how to do so, in simplest terms."
   ]
  },
  {
   "cell_type": "markdown",
   "metadata": {},
   "source": [
    "## Web Service API\n",
    "Our prediction model needs to be wrapped into a web service, available to the outside world. When it comes to creating API web services, there are plenty of options. [Flask](https://palletsprojects.com/p/flask/) is a micro web application framework that makes creating web APIs like a breeze. [FastAPI](https://fastapi.tiangolo.com/) is another fantastic option.\n",
    "\n",
    "The API wrapper will do the below three tasks:\n",
    "- Receive inputs as a JSON string () via POST method\n",
    "- Load prediction model from a saved file\n",
    "- Run prediction on input data and return prediction result response\n",
    "\n",
    "This is the code that achieves above goals using Flask:\n",
    "\n",
    "```\n",
    "# required library imports\n",
    "import json\n",
    "import pickle\n",
    "from pandas import DataFrame\n",
    "from numpy import expm1\n",
    "from flask import Flask, request\n",
    "from waitress import serve\n",
    "\n",
    "# path to the folder containing our model\n",
    "MODEL_PATH = './model/'\n",
    "\n",
    "\n",
    "def load_model(path_to_model):\n",
    "    with open(path_to_model, 'rb') as model_file:\n",
    "        model = pickle.load(model_file)\n",
    "    return model\n",
    "\n",
    "\n",
    "def get_prediction(model, input_data):\n",
    "    # input data is a json string\n",
    "    # we have to convert it back to a pandas dataframe object\n",
    "    # scikit-learn's ColumnTransformer only accepts an array or pandas DataFrame\n",
    "    dict_obj = json.loads(input_data)\n",
    "    X = DataFrame.from_dict(dict_obj)\n",
    "    y_pred = expm1(model.predict(X)[0])\n",
    "\n",
    "    # compose result dictionary and return it as a json string\n",
    "    result = {\n",
    "        'prediction': float(y_pred),\n",
    "    }\n",
    "    return json.dumps(result)\n",
    "\n",
    "\n",
    "app = Flask('prediction_app')\n",
    "@app.route('/predict', methods=['POST'])\n",
    "def predict():\n",
    "    input_json = request.get_json()\n",
    "    model = load_model(MODEL_PATH+'model.bin')\n",
    "    prediction_result = get_prediction(model, input_json)\n",
    "\n",
    "    return prediction_result\n",
    "\n",
    "\n",
    "\n",
    "if __name__ == \"__main__\":\n",
    "    serve(app, host='0.0.0.0', port=9696)\n",
    "```"
   ]
  },
  {
   "cell_type": "markdown",
   "metadata": {},
   "source": [
    "There are three functions in our prediction file.<br>\n",
    "- First one, __*load_model()*__, loads the model saved as a pickle file. As a side note, we know that our saved model is embodied with data preprocessing pipeline alongside.<br>\n",
    "- Second function, __*get_prediction()*__, does the prediction task by utilizing a model and the input data. The __input data must be in the same dimension__ as our cleaned dataset, meaning it must have the exact features we used for training.\n",
    "- The last one, __*predict()*__ , is the entry for our API endpoint handled by Flask. Notice the _route()_ and it's input above function definition. The route parameter can be any name you like, which will be used by outside world as API's entry point.\n",
    "\n",
    "The last line employs _waitress_ web server to run the flask app. Waitress is a lightweight WSGI server that has no dependencies except ones which live in the Python standard library. It can run on both Windows & UNIX-based OS environments.\n",
    "The code above is available in _script/predict.py_ file. We need to run this file in order to make our API accessible.<br>\n",
    "All you need to do is to run a shell command inside the _script_ folder to run the file. Type-in one of the following commands in your command line inside this folder:\n",
    "```\n",
    "\"python inference.py\"\n",
    "or\n",
    "\"python -m inference\"\n",
    "```\n",
    "\n",
    "That's it. Now our flask app is running in the background, waiting to serve requests on 9696 port, available on all IP addresses our machine has. Note that, in the last line containing the _serve()_ function in _inference.py_ file, you can put-in any port number as function's port parameter, as long as it is not used by any apps or services running on your machine."
   ]
  },
  {
   "cell_type": "markdown",
   "metadata": {},
   "source": [
    "## Mocking and Testing an API Call\n",
    "Now that we have our prediction web service running on our machine, let's mock a call from outside and see what we get as a result.<br>\n",
    "We'll need to provide the API call with some input data. The most accessible data we have is our test dataset. Let's load this and extract a random JSON data point out of it:"
   ]
  },
  {
   "cell_type": "code",
   "execution_count": 2,
   "metadata": {},
   "outputs": [],
   "source": [
    "import pandas as pd\n",
    "\n",
    "DATA_PATH = './script/data/'\n",
    "test_data = pd.read_csv(DATA_PATH+'test_cleaned.csv.gz')"
   ]
  },
  {
   "cell_type": "code",
   "execution_count": 3,
   "metadata": {},
   "outputs": [
    {
     "data": {
      "text/plain": [
       "'{\"cat1\":{\"5410\":\"A\"},\"cat2\":{\"5410\":\"A\"},\"cat4\":{\"5410\":\"A\"},\"cat5\":{\"5410\":\"B\"},\"cat6\":{\"5410\":\"A\"},\"cat8\":{\"5410\":\"A\"},\"cat9\":{\"5410\":\"A\"},\"cat10\":{\"5410\":\"A\"},\"cat11\":{\"5410\":\"A\"},\"cat12\":{\"5410\":\"A\"},\"cat13\":{\"5410\":\"A\"},\"cat14\":{\"5410\":\"A\"},\"cat16\":{\"5410\":\"A\"},\"cat17\":{\"5410\":\"A\"},\"cat18\":{\"5410\":\"A\"},\"cat19\":{\"5410\":\"A\"},\"cat20\":{\"5410\":\"A\"},\"cat21\":{\"5410\":\"A\"},\"cat23\":{\"5410\":\"A\"},\"cat24\":{\"5410\":\"A\"},\"cat25\":{\"5410\":\"A\"},\"cat26\":{\"5410\":\"A\"},\"cat27\":{\"5410\":\"A\"},\"cat28\":{\"5410\":\"A\"},\"cat29\":{\"5410\":\"A\"},\"cat30\":{\"5410\":\"A\"},\"cat31\":{\"5410\":\"A\"},\"cat32\":{\"5410\":\"A\"},\"cat33\":{\"5410\":\"A\"},\"cat34\":{\"5410\":\"A\"},\"cat35\":{\"5410\":\"A\"},\"cat36\":{\"5410\":\"A\"},\"cat37\":{\"5410\":\"A\"},\"cat38\":{\"5410\":\"B\"},\"cat39\":{\"5410\":\"A\"},\"cat40\":{\"5410\":\"A\"},\"cat41\":{\"5410\":\"A\"},\"cat42\":{\"5410\":\"A\"},\"cat43\":{\"5410\":\"A\"},\"cat44\":{\"5410\":\"A\"},\"cat45\":{\"5410\":\"A\"},\"cat46\":{\"5410\":\"A\"},\"cat47\":{\"5410\":\"A\"},\"cat48\":{\"5410\":\"A\"},\"cat49\":{\"5410\":\"A\"},\"cat50\":{\"5410\":\"A\"},\"cat51\":{\"5410\":\"A\"},\"cat52\":{\"5410\":\"A\"},\"cat53\":{\"5410\":\"A\"},\"cat54\":{\"5410\":\"A\"},\"cat57\":{\"5410\":\"A\"},\"cat58\":{\"5410\":\"A\"},\"cat59\":{\"5410\":\"A\"},\"cat60\":{\"5410\":\"A\"},\"cat61\":{\"5410\":\"A\"},\"cat65\":{\"5410\":\"A\"},\"cat66\":{\"5410\":\"A\"},\"cat67\":{\"5410\":\"A\"},\"cat69\":{\"5410\":\"A\"},\"cat71\":{\"5410\":\"A\"},\"cat72\":{\"5410\":\"A\"},\"cat73\":{\"5410\":\"A\"},\"cat74\":{\"5410\":\"A\"},\"cat75\":{\"5410\":\"A\"},\"cat76\":{\"5410\":\"A\"},\"cat77\":{\"5410\":\"D\"},\"cat78\":{\"5410\":\"B\"},\"cat79\":{\"5410\":\"B\"},\"cat80\":{\"5410\":\"D\"},\"cat81\":{\"5410\":\"C\"},\"cat82\":{\"5410\":\"B\"},\"cat83\":{\"5410\":\"B\"},\"cat84\":{\"5410\":\"C\"},\"cat85\":{\"5410\":\"B\"},\"cat86\":{\"5410\":\"D\"},\"cat87\":{\"5410\":\"B\"},\"cat88\":{\"5410\":\"D\"},\"cat89\":{\"5410\":\"A\"},\"cat90\":{\"5410\":\"A\"},\"cat91\":{\"5410\":\"B\"},\"cat92\":{\"5410\":\"H\"},\"cat93\":{\"5410\":\"D\"},\"cat94\":{\"5410\":\"C\"},\"cat95\":{\"5410\":\"C\"},\"cat96\":{\"5410\":\"E\"},\"cat97\":{\"5410\":\"A\"},\"cat98\":{\"5410\":\"C\"},\"cat99\":{\"5410\":\"T\"},\"cat100\":{\"5410\":\"F\"},\"cat101\":{\"5410\":\"A\"},\"cat102\":{\"5410\":\"A\"},\"cat103\":{\"5410\":\"B\"},\"cat104\":{\"5410\":\"K\"},\"cat105\":{\"5410\":\"F\"},\"cat106\":{\"5410\":\"E\"},\"cat107\":{\"5410\":\"H\"},\"cat108\":{\"5410\":\"G\"},\"cat109\":{\"5410\":\"BI\"},\"cat110\":{\"5410\":\"CS\"},\"cat111\":{\"5410\":\"A\"},\"cat112\":{\"5410\":\"J\"},\"cat113\":{\"5410\":\"L\"},\"cat114\":{\"5410\":\"A\"},\"cat115\":{\"5410\":\"O\"},\"cat116\":{\"5410\":\"LM\"},\"cont1\":{\"5410\":0.8464},\"cont2\":{\"5410\":0.681761},\"cont3\":{\"5410\":0.336963},\"cont4\":{\"5410\":0.705434},\"cont5\":{\"5410\":0.281143},\"cont6\":{\"5410\":0.875461},\"cont7\":{\"5410\":0.589016},\"cont8\":{\"5410\":0.96202},\"cont9\":{\"5410\":0.86299},\"cont10\":{\"5410\":0.8351},\"cont11\":{\"5410\":0.82184},\"cont13\":{\"5410\":0.808455},\"cont14\":{\"5410\":0.389813}}'"
      ]
     },
     "execution_count": 3,
     "metadata": {},
     "output_type": "execute_result"
    }
   ],
   "source": [
    "# choose a sample row\n",
    "# this should have all the columns except the 'id' column which was note used for training\n",
    "sample = test_data[test_data.columns[~test_data.columns.isin(['id'])]].sample(n=1, random_state=1024).to_json()\n",
    "sample"
   ]
  },
  {
   "cell_type": "markdown",
   "metadata": {},
   "source": [
    "It's time to mock an outgoing API request to our prediction endpoint and see the results:"
   ]
  },
  {
   "cell_type": "code",
   "execution_count": 4,
   "metadata": {},
   "outputs": [
    {
     "name": "stdout",
     "output_type": "stream",
     "text": [
      "{'prediction': 2284.148193359375}\n"
     ]
    }
   ],
   "source": [
    "import requests\n",
    "\n",
    "api_url = \"http://localhost:9696/predict\"\n",
    "\n",
    "\n",
    "api_response = requests.post(url=api_url, json=sample).json()\n",
    "print(api_response)\n"
   ]
  },
  {
   "cell_type": "markdown",
   "metadata": {},
   "source": [
    "There you go, we have our API endpoint alive and well!"
   ]
  }
 ],
 "metadata": {
  "interpreter": {
   "hash": "97ae724bfa85b9b34df7982b8bb8c7216f435b92902d749e4263f71162bea840"
  },
  "kernelspec": {
   "display_name": "Python 3.7.12 64-bit ('base': conda)",
   "name": "python3"
  },
  "language_info": {
   "codemirror_mode": {
    "name": "ipython",
    "version": 3
   },
   "file_extension": ".py",
   "mimetype": "text/x-python",
   "name": "python",
   "nbconvert_exporter": "python",
   "pygments_lexer": "ipython3",
   "version": "3.7.12"
  },
  "orig_nbformat": 4
 },
 "nbformat": 4,
 "nbformat_minor": 2
}
